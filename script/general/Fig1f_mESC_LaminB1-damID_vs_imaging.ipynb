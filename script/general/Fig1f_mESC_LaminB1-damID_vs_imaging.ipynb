{
 "cells": [
  {
   "cell_type": "code",
   "execution_count": 50,
   "id": "b9cae01e-b2f0-49cc-9c47-e3a54e1285ae",
   "metadata": {},
   "outputs": [],
   "source": [
    "import os\n",
    "import glob\n",
    "from pathlib import Path\n",
    "\n",
    "import pandas as pd\n",
    "import matplotlib.pyplot as plt\n",
    "\n",
    "from scipy.stats import spearmanr\n",
    "plt.rcParams['figure.dpi'] = 300"
   ]
  },
  {
   "cell_type": "markdown",
   "id": "5a94ad66-363a-45ff-808e-2a83c9cfee5a",
   "metadata": {},
   "source": [
    "# read information"
   ]
  },
  {
   "cell_type": "code",
   "execution_count": 51,
   "id": "a68f5ace-5bfa-40b9-848a-3f2e9b23bc1b",
   "metadata": {},
   "outputs": [],
   "source": [
    "# take a look at data format\n",
    "# find current working directoy\n",
    "cwd_path = Path().absolute()\n",
    "data_root = cwd_path.parent.parent / \"data\"\n",
    "experiment = \"CellCulture\"\n",
    "chrom_list = [f\"chr{x}\" for x in range(1, 20)]\n",
    "chrom_list.append(\"chrX\")"
   ]
  },
  {
   "cell_type": "code",
   "execution_count": 52,
   "id": "cef67b57-f04c-43db-9fe0-053afc71bd0f",
   "metadata": {},
   "outputs": [],
   "source": [
    "# take a look at data format\n",
    "# read all celltypes information\n",
    "cell_type = \"E14\"\n",
    "res = \"100kb\"\n",
    "file = glob.glob(str(data_root / experiment / \"IF_ensemble\"/ f\"*{res}*{cell_type}.csv\"))[0]\n",
    "# read in all information\n",
    "df = pd.read_csv(file)"
   ]
  },
  {
   "cell_type": "code",
   "execution_count": 65,
   "id": "f7a91b19-fc6b-4eac-8506-9788d2a3b447",
   "metadata": {},
   "outputs": [],
   "source": [
    "Lamin_df = pd.read_csv(str(data_root / \"third_party_data\" / \"Fig1f_GSE181693_damid_mESC_PT0h.tsv\"))\n",
    "Lamin_df[\"100kb bin\"] = Lamin_df[\"start\"] // 100000\n",
    "Lamin_df_100kb = Lamin_df.groupby([\"chrom\", \"100kb bin\"])[\"PT_0h\"].apply(\"mean\").reset_index()\n",
    "Lamin_df_100kb[\"100kb name\"] = Lamin_df_100kb[\"chrom\"] + '-g' + Lamin_df_100kb[\"100kb bin\"].astype(str)"
   ]
  },
  {
   "cell_type": "code",
   "execution_count": 73,
   "outputs": [],
   "source": [
    "df_all = df[[\"100kb name\", \"n_per_dist(um)\"]].merge(Lamin_df_100kb[[\"100kb name\", \"chrom\", \"PT_0h\"]])"
   ],
   "metadata": {
    "collapsed": false
   }
  },
  {
   "cell_type": "code",
   "execution_count": 75,
   "outputs": [],
   "source": [
    "df_all.to_csv(str(data_root / experiment / \"Validation\" / \"Fig1f_LaminB_vs_1GSE181693_damid_mESC.csv\"), index = None)"
   ],
   "metadata": {
    "collapsed": false
   }
  },
  {
   "cell_type": "code",
   "execution_count": 70,
   "outputs": [
    {
     "data": {
      "text/plain": "-0.8280025953885681"
     },
     "execution_count": 70,
     "metadata": {},
     "output_type": "execute_result"
    }
   ],
   "source": [
    "# filter out nan lines\n",
    "df_all =df_all.dropna()\n",
    "spearmanr(df_all[\"n_per_dist(um)\"], df_all[\"PT_0h\"])[0]"
   ],
   "metadata": {
    "collapsed": false
   }
  }
 ],
 "metadata": {
  "kernelspec": {
   "display_name": "Python (base)",
   "language": "python",
   "name": "base"
  },
  "language_info": {
   "codemirror_mode": {
    "name": "ipython",
    "version": 3
   },
   "file_extension": ".py",
   "mimetype": "text/x-python",
   "name": "python",
   "nbconvert_exporter": "python",
   "pygments_lexer": "ipython3",
   "version": "3.8.13"
  }
 },
 "nbformat": 4,
 "nbformat_minor": 5
}
