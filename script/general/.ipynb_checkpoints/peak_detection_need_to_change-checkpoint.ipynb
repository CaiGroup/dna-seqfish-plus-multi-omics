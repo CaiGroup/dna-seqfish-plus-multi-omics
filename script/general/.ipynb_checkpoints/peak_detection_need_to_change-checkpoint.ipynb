{
 "cells": [
  {
   "cell_type": "code",
   "execution_count": 1,
   "id": "58ebe901-a346-4c8e-a9b4-0d4f292721a6",
   "metadata": {},
   "outputs": [],
   "source": [
    "import os\n",
    "import glob\n",
    "from pathlib import Path\n",
    "\n",
    "import pandas as pd\n",
    "import numpy as np\n",
    "import seaborn as sns\n",
    "import itertools\n",
    "\n",
    "from dask import dataframe as dd\n",
    "from functools import reduce\n",
    "import matplotlib.pyplot as plt\n",
    "import pickle\n",
    "from scipy.stats import wasserstein_distance\n",
    "import scipy.signal\n",
    "from scipy.ndimage import uniform_filter1d\n",
    "\n",
    "from matplotlib.backends.backend_pdf import PdfPages\n",
    "plt.rcParams['figure.dpi'] = 150\n",
    "import sys\n",
    "import plotly.express as px\n",
    "import matplotlib.backends.backend_pdf"
   ]
  },
  {
   "cell_type": "code",
   "execution_count": 3,
   "id": "f9458c05-ca77-4256-902e-80a4239403dd",
   "metadata": {},
   "outputs": [],
   "source": [
    "# find current working directoy\n",
    "cwd_path = Path().absolute() \n",
    "data_root = cwd_path.parent.parent / \"data\"\n",
    "experiment = \"cerebellum\"\n",
    "chrom_list = [f\"chr{x}\" for x in range(1, 20)]\n",
    "chrom_list.append(\"chrX\")\n",
    "\n",
    "# specify leidens and cell types being used\n",
    "leidens = [\"0+1\", \"2\", \"4\", \"6+11\", \"7\"]\n",
    "cell_types = [\"Granule\", \"Bergmann\", \"MLI1\", \"Purkinje\", \"MLI2+PLI\"]"
   ]
  },
  {
   "cell_type": "code",
   "execution_count": null,
   "id": "2360a739-8078-4774-9de9-49d453bd5c1f",
   "metadata": {},
   "outputs": [],
   "source": []
  }
 ],
 "metadata": {
  "kernelspec": {
   "display_name": "Python 3 (ipykernel)",
   "language": "python",
   "name": "python3"
  },
  "language_info": {
   "codemirror_mode": {
    "name": "ipython",
    "version": 3
   },
   "file_extension": ".py",
   "mimetype": "text/x-python",
   "name": "python",
   "nbconvert_exporter": "python",
   "pygments_lexer": "ipython3",
   "version": "3.8.13"
  }
 },
 "nbformat": 4,
 "nbformat_minor": 5
}
